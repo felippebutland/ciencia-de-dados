{
 "cells": [
  {
   "metadata": {
    "ExecuteTime": {
     "end_time": "2024-06-29T01:43:06.221870Z",
     "start_time": "2024-06-29T01:43:05.053284Z"
    }
   },
   "cell_type": "code",
   "source": [
    "import pandas as pd \n",
    "import time\n",
    "from sklearn.model_selection import train_test_split\n",
    "from xgboost import XGBClassifier\n",
    "from sklearn.tree import DecisionTreeClassifier\n",
    "from lightgbm import LGBMClassifier\n",
    "from sklearn.ensemble import VotingClassifier\n",
    "from sklearn.metrics import accuracy_score\n",
    "import matplotlib.pyplot as plt\n",
    "\n",
    "import warnings\n",
    "warnings.filterwarnings(\"ignore\", category=UserWarning, module='lightgbm')\n"
   ],
   "id": "9e1e44ddf9a2a948",
   "outputs": [],
   "execution_count": 2
  },
  {
   "metadata": {},
   "cell_type": "markdown",
   "source": [
    "D* = Delinquency variables S = Spend variables P_ = Payment variables B* = Balance variables R* = Risk variables with the following features being categorical:\n",
    "\n",
    "['B_30', 'B_38', 'D_114', 'D_116', 'D_117', 'D_120', 'D_126', 'D_63', 'D_64', 'D_66', 'D_68']"
   ],
   "id": "df90237e18ea2d96"
  },
  {
   "metadata": {
    "ExecuteTime": {
     "end_time": "2024-06-29T01:43:06.226979Z",
     "start_time": "2024-06-29T01:43:06.223360Z"
    }
   },
   "cell_type": "code",
   "source": [
    "start = time.time()\n",
    "\n",
    "df_path = \"./train.parquet\"\n",
    "target_path = \"./train_labels.csv\"\n",
    "test_path = \"./test.parquet\"\n",
    "sample_path = \"./sample_submission.csv\"\n"
   ],
   "id": "b46fde4ca5059c75",
   "outputs": [],
   "execution_count": 3
  },
  {
   "metadata": {},
   "cell_type": "markdown",
   "source": "Read time of dataset and archives",
   "id": "2673b32ea42a6167"
  },
  {
   "metadata": {
    "ExecuteTime": {
     "end_time": "2024-06-29T01:43:14.179993Z",
     "start_time": "2024-06-29T01:43:06.227795Z"
    }
   },
   "cell_type": "code",
   "source": [
    "df = pd.read_parquet(path=df_path)\n",
    "end1 = time.time() - start\n",
    "\n",
    "test = pd.read_parquet(path=test_path)\n",
    "end2 = time.time() - start - end1\n",
    "\n",
    "target = pd.read_csv(target_path)\n",
    "end3 = time.time() - start - end1 - end2\n",
    "\n",
    "sample = pd.read_csv(sample_path)\n",
    "end4 = time.time() - start - end1 - end2 - end3\n",
    "print(f'time train: {end1}')\n",
    "print(f'time test: {end2}')\n",
    "print(f'time target: {end3}')\n",
    "print(f'time sample: {end4}')\n",
    "print(\"done\")\n"
   ],
   "id": "38004889724a3a07",
   "outputs": [
    {
     "name": "stdout",
     "output_type": "stream",
     "text": [
      "time train: 2.1183269023895264\n",
      "time test: 4.888932228088379\n",
      "time target: 0.39914965629577637\n",
      "time sample: 0.5427792072296143\n",
      "done\n"
     ]
    }
   ],
   "execution_count": 4
  },
  {
   "metadata": {},
   "cell_type": "markdown",
   "source": "Group by customer",
   "id": "95f54a90dcbbf90d"
  },
  {
   "metadata": {
    "ExecuteTime": {
     "end_time": "2024-06-29T01:43:18.349177Z",
     "start_time": "2024-06-29T01:43:14.182402Z"
    }
   },
   "cell_type": "code",
   "source": [
    "start = time.time()\n",
    "agg_dict = {}\n",
    "obj_col = ['B_30', 'B_38', 'D_114', 'D_116', 'D_117', 'D_120', 'D_126', 'D_63', 'D_64', 'D_66', 'D_68']\n",
    "not_obj = [i for i in df.columns if (i not in obj_col)]\n",
    "not_obj.remove(\"customer_ID\")\n",
    "not_obj.remove(\"S_2\")\n",
    "\n",
    "df_grouped = df.groupby(\"customer_ID\").tail(1)\n",
    "test_grouped = test.groupby(\"customer_ID\").tail(1)\n",
    "end = time.time()-start\n",
    "print(end)\n"
   ],
   "id": "f9ece4cffcc2286c",
   "outputs": [
    {
     "name": "stdout",
     "output_type": "stream",
     "text": [
      "4.162052154541016\n"
     ]
    }
   ],
   "execution_count": 5
  },
  {
   "metadata": {},
   "cell_type": "markdown",
   "source": "Grouped infos",
   "id": "91861839c8d51ff7"
  },
  {
   "metadata": {
    "ExecuteTime": {
     "end_time": "2024-06-29T01:43:18.361552Z",
     "start_time": "2024-06-29T01:43:18.350157Z"
    }
   },
   "cell_type": "code",
   "source": "df_grouped.info()\n",
   "id": "c32a0cafae04462c",
   "outputs": [
    {
     "name": "stdout",
     "output_type": "stream",
     "text": [
      "<class 'pandas.core.frame.DataFrame'>\n",
      "Index: 458913 entries, 12 to 5531450\n",
      "Columns: 190 entries, customer_ID to D_145\n",
      "dtypes: float32(93), int16(9), int8(86), object(2)\n",
      "memory usage: 218.8+ MB\n"
     ]
    }
   ],
   "execution_count": 6
  },
  {
   "metadata": {
    "ExecuteTime": {
     "end_time": "2024-06-29T01:43:18.368531Z",
     "start_time": "2024-06-29T01:43:18.362340Z"
    }
   },
   "cell_type": "code",
   "source": "test_grouped.info()\n",
   "id": "a940a20bf813c994",
   "outputs": [
    {
     "name": "stdout",
     "output_type": "stream",
     "text": [
      "<class 'pandas.core.frame.DataFrame'>\n",
      "Index: 924621 entries, 8 to 11363761\n",
      "Columns: 190 entries, customer_ID to D_145\n",
      "dtypes: float32(93), int16(10), int8(85), object(2)\n",
      "memory usage: 441.8+ MB\n"
     ]
    }
   ],
   "execution_count": 7
  },
  {
   "metadata": {},
   "cell_type": "markdown",
   "source": "Identifies Nan's columns or missing values and calculates the count of train and test separately and combines",
   "id": "7180473830804dc1"
  },
  {
   "metadata": {
    "ExecuteTime": {
     "end_time": "2024-06-29T01:43:19.646130Z",
     "start_time": "2024-06-29T01:43:18.369305Z"
    }
   },
   "cell_type": "code",
   "source": [
    "def get_del_col(df, call_rows):\n",
    "    del_col = []\n",
    "    for col in df.columns:\n",
    "        count = df[col].isna().sum()\n",
    "        if count > call_rows*0.5:\n",
    "            del_col.append(col)\n",
    "    return del_col\n",
    "\n",
    "train_del_col = get_del_col(df, 458913)\n",
    "test_del_col = get_del_col(test, 924621)\n",
    "del_col = list(set(train_del_col) | set(test_del_col))\n",
    "del_col.extend([\"S_2\"])\n",
    "print(f'del_col_for_train : {len(train_del_col)}')\n",
    "print(f'del_col_for_test : {len(test_del_col)}')\n",
    "print(f'size of del_col : {len(del_col)}')\n"
   ],
   "id": "4298a4a803f55d27",
   "outputs": [
    {
     "name": "stdout",
     "output_type": "stream",
     "text": [
      "del_col_for_train : 27\n",
      "del_col_for_test : 28\n",
      "size of del_col : 30\n"
     ]
    }
   ],
   "execution_count": 8
  },
  {
   "metadata": {},
   "cell_type": "markdown",
   "source": "Drop columns identified at last step",
   "id": "508e7148b004b8b1"
  },
  {
   "metadata": {
    "ExecuteTime": {
     "end_time": "2024-06-29T01:43:19.782462Z",
     "start_time": "2024-06-29T01:43:19.647106Z"
    }
   },
   "cell_type": "code",
   "source": [
    "df_reduced = df_grouped.drop(columns = del_col)\n",
    "test_reduced = test_grouped.drop(columns = del_col)\n"
   ],
   "id": "ddad5f3a5154e4b3",
   "outputs": [],
   "execution_count": 9
  },
  {
   "metadata": {},
   "cell_type": "markdown",
   "source": "Defines the categorical columns, filter columns that are also in del_col and one hot enconding to dataset reduced  ",
   "id": "104da579d10adbf5"
  },
  {
   "metadata": {
    "ExecuteTime": {
     "end_time": "2024-06-29T01:43:20.243515Z",
     "start_time": "2024-06-29T01:43:19.783443Z"
    }
   },
   "cell_type": "code",
   "source": [
    "obj_col = ['B_30', 'B_38', 'D_114', 'D_116', 'D_117', 'D_120', 'D_126', 'D_63', 'D_64', 'D_66', 'D_68']\n",
    "obj_col = [i for i in obj_col if i not in del_col]\n",
    "\n",
    "\n",
    "df_hot = pd.get_dummies(data=df_reduced, columns = obj_col)\n",
    "test_hot = pd.get_dummies(data=test_reduced, columns = obj_col)\n",
    "\n",
    "\n",
    "df_hot.info()\n",
    "test_hot.info()\n"
   ],
   "id": "8de804725f077dd8",
   "outputs": [
    {
     "name": "stdout",
     "output_type": "stream",
     "text": [
      "<class 'pandas.core.frame.DataFrame'>\n",
      "Index: 458913 entries, 12 to 5531450\n",
      "Columns: 199 entries, customer_ID to D_68_6\n",
      "dtypes: bool(50), float32(64), int16(9), int8(75), object(1)\n",
      "memory usage: 181.6+ MB\n",
      "<class 'pandas.core.frame.DataFrame'>\n",
      "Index: 924621 entries, 8 to 11363761\n",
      "Columns: 199 entries, customer_ID to D_68_6\n",
      "dtypes: bool(50), float32(64), int16(10), int8(74), object(1)\n",
      "memory usage: 366.8+ MB\n"
     ]
    }
   ],
   "execution_count": 10
  },
  {
   "metadata": {},
   "cell_type": "markdown",
   "source": "fill the missing value that not deleted with forward fill, values are replaced with the preceding non-missing value in the same column",
   "id": "eafecf7bddab0249"
  },
  {
   "metadata": {
    "ExecuteTime": {
     "end_time": "2024-06-29T01:43:20.630320Z",
     "start_time": "2024-06-29T01:43:20.246334Z"
    }
   },
   "cell_type": "code",
   "source": [
    "df_hot.ffill(inplace=True)\n",
    "df_hot.ffill(inplace=True)\n",
    "df_hot.isna().sum().sum()\n",
    "\n",
    "test_hot.ffill(inplace=True)\n",
    "test_hot.ffill(inplace=True)\n",
    "test_hot.isna().sum().sum()\n"
   ],
   "id": "f2bebcbc54863ce4",
   "outputs": [
    {
     "data": {
      "text/plain": [
       "np.int64(0)"
      ]
     },
     "execution_count": 11,
     "metadata": {},
     "output_type": "execute_result"
    }
   ],
   "execution_count": 11
  },
  {
   "metadata": {},
   "cell_type": "markdown",
   "source": "Set customerId to index in test and train dataset",
   "id": "5cb9012f8c3079c9"
  },
  {
   "metadata": {
    "ExecuteTime": {
     "end_time": "2024-06-29T01:43:20.705861Z",
     "start_time": "2024-06-29T01:43:20.631267Z"
    }
   },
   "cell_type": "code",
   "source": [
    "df_hotter = df_hot.set_index(\"customer_ID\")\n",
    "test_hotter = test_hot.set_index(\"customer_ID\")\n"
   ],
   "id": "c6df895a74378d1d",
   "outputs": [],
   "execution_count": 12
  },
  {
   "metadata": {},
   "cell_type": "markdown",
   "source": "",
   "id": "9ae317934dd351d7"
  },
  {
   "metadata": {},
   "cell_type": "markdown",
   "source": "Get bool cols and iterates of each to convert to int type ",
   "id": "c537b83ea5474301"
  },
  {
   "metadata": {
    "ExecuteTime": {
     "end_time": "2024-06-29T01:43:20.735531Z",
     "start_time": "2024-06-29T01:43:20.706598Z"
    }
   },
   "cell_type": "code",
   "source": [
    "bool_col = df_hotter.select_dtypes(\"bool\").columns\n",
    "for col in bool_col:\n",
    "    df_hotter[col] = df_hotter[col].astype(\"int8\")\n",
    "    test_hotter[col] = test_hotter[col].astype(\"int8\")\n",
    "\n",
    "\n",
    "df_hotter.info()\n",
    "test_hotter.info()\n"
   ],
   "id": "19a4d4870f5bfeb2",
   "outputs": [
    {
     "name": "stdout",
     "output_type": "stream",
     "text": [
      "<class 'pandas.core.frame.DataFrame'>\n",
      "Index: 458913 entries, 0000099d6bd597052cdcda90ffabf56573fe9d7c79be5fbac11a8ed792feb62a to fffff1d38b785cef84adeace64f8f83db3a0c31e8d92eaba8b115f71cab04681\n",
      "Columns: 198 entries, P_2 to D_68_6\n",
      "dtypes: float32(64), int16(9), int8(125)\n",
      "memory usage: 178.1+ MB\n",
      "<class 'pandas.core.frame.DataFrame'>\n",
      "Index: 924621 entries, 00000469ba478561f23a92a868bd366de6f6527a684c9a2e78fb826dcac3b9b7 to fffffa7cf7e453e1acc6a1426475d5cb9400859f82ff61cceb803ea8ec37634d\n",
      "Columns: 198 entries, P_2 to D_68_6\n",
      "dtypes: float32(64), int16(10), int8(124)\n",
      "memory usage: 359.8+ MB\n"
     ]
    }
   ],
   "execution_count": 13
  },
  {
   "metadata": {},
   "cell_type": "markdown",
   "source": "Get head of train to validate the values",
   "id": "48eddb424884e22d"
  },
  {
   "metadata": {
    "ExecuteTime": {
     "end_time": "2024-06-29T01:43:20.745941Z",
     "start_time": "2024-06-29T01:43:20.736341Z"
    }
   },
   "cell_type": "code",
   "source": "df_hotter.head()\n",
   "id": "f94edd6ae1d48391",
   "outputs": [
    {
     "data": {
      "text/plain": [
       "                                                         P_2  D_39       B_1  \\\n",
       "customer_ID                                                                    \n",
       "0000099d6bd597052cdcda90ffabf56573fe9d7c79be5fb...  0.934745     0  0.009382   \n",
       "00000fd6641609c6ece5454664794f0340ad84dddce9a26...  0.880519     6  0.034684   \n",
       "00001b22f846c82c51f6e3958ccd81970162bae8b007e80...  0.880875     0  0.004284   \n",
       "000041bdba6ecadd89a52d11886e8eaaec9325906c97233...  0.621776     0  0.012564   \n",
       "00007889e4fcd2614b6cbe7f8f3d2e5c728eca32d9eb8ad...  0.871900     0  0.007679   \n",
       "\n",
       "                                                         B_2       R_1  D_41  \\\n",
       "customer_ID                                                                    \n",
       "0000099d6bd597052cdcda90ffabf56573fe9d7c79be5fb...  1.007647  0.006104   0.0   \n",
       "00000fd6641609c6ece5454664794f0340ad84dddce9a26...  1.004028  0.006911   0.0   \n",
       "00001b22f846c82c51f6e3958ccd81970162bae8b007e80...  0.812649  0.006450   0.0   \n",
       "000041bdba6ecadd89a52d11886e8eaaec9325906c97233...  1.006183  0.007829   0.0   \n",
       "00007889e4fcd2614b6cbe7f8f3d2e5c728eca32d9eb8ad...  0.815746  0.001247   0.0   \n",
       "\n",
       "                                                         B_3  D_44  B_4  \\\n",
       "customer_ID                                                               \n",
       "0000099d6bd597052cdcda90ffabf56573fe9d7c79be5fb...  0.007174     0    5   \n",
       "00000fd6641609c6ece5454664794f0340ad84dddce9a26...  0.005068     0    1   \n",
       "00001b22f846c82c51f6e3958ccd81970162bae8b007e80...  0.007196     0    2   \n",
       "000041bdba6ecadd89a52d11886e8eaaec9325906c97233...  0.009937     0    0   \n",
       "00007889e4fcd2614b6cbe7f8f3d2e5c728eca32d9eb8ad...  0.005528     0   21   \n",
       "\n",
       "                                                        D_45  ...  D_64_3  \\\n",
       "customer_ID                                                   ...           \n",
       "0000099d6bd597052cdcda90ffabf56573fe9d7c79be5fb...  0.740102  ...       0   \n",
       "00000fd6641609c6ece5454664794f0340ad84dddce9a26...  0.266275  ...       0   \n",
       "00001b22f846c82c51f6e3958ccd81970162bae8b007e80...  0.251598  ...       0   \n",
       "000041bdba6ecadd89a52d11886e8eaaec9325906c97233...  0.085103  ...       0   \n",
       "00007889e4fcd2614b6cbe7f8f3d2e5c728eca32d9eb8ad...  0.069952  ...       0   \n",
       "\n",
       "                                                    D_66_-1  D_66_1  D_68_-1  \\\n",
       "customer_ID                                                                    \n",
       "0000099d6bd597052cdcda90ffabf56573fe9d7c79be5fb...        1       0        0   \n",
       "00000fd6641609c6ece5454664794f0340ad84dddce9a26...        1       0        0   \n",
       "00001b22f846c82c51f6e3958ccd81970162bae8b007e80...        1       0        0   \n",
       "000041bdba6ecadd89a52d11886e8eaaec9325906c97233...        1       0        0   \n",
       "00007889e4fcd2614b6cbe7f8f3d2e5c728eca32d9eb8ad...        0       1        0   \n",
       "\n",
       "                                                    D_68_1  D_68_2  D_68_3  \\\n",
       "customer_ID                                                                  \n",
       "0000099d6bd597052cdcda90ffabf56573fe9d7c79be5fb...       0       0       0   \n",
       "00000fd6641609c6ece5454664794f0340ad84dddce9a26...       0       0       0   \n",
       "00001b22f846c82c51f6e3958ccd81970162bae8b007e80...       0       0       0   \n",
       "000041bdba6ecadd89a52d11886e8eaaec9325906c97233...       0       0       1   \n",
       "00007889e4fcd2614b6cbe7f8f3d2e5c728eca32d9eb8ad...       0       0       0   \n",
       "\n",
       "                                                    D_68_4  D_68_5  D_68_6  \n",
       "customer_ID                                                                 \n",
       "0000099d6bd597052cdcda90ffabf56573fe9d7c79be5fb...       0       0       1  \n",
       "00000fd6641609c6ece5454664794f0340ad84dddce9a26...       0       0       1  \n",
       "00001b22f846c82c51f6e3958ccd81970162bae8b007e80...       0       0       1  \n",
       "000041bdba6ecadd89a52d11886e8eaaec9325906c97233...       0       0       0  \n",
       "00007889e4fcd2614b6cbe7f8f3d2e5c728eca32d9eb8ad...       0       0       1  \n",
       "\n",
       "[5 rows x 198 columns]"
      ],
      "text/html": [
       "<div>\n",
       "<style scoped>\n",
       "    .dataframe tbody tr th:only-of-type {\n",
       "        vertical-align: middle;\n",
       "    }\n",
       "\n",
       "    .dataframe tbody tr th {\n",
       "        vertical-align: top;\n",
       "    }\n",
       "\n",
       "    .dataframe thead th {\n",
       "        text-align: right;\n",
       "    }\n",
       "</style>\n",
       "<table border=\"1\" class=\"dataframe\">\n",
       "  <thead>\n",
       "    <tr style=\"text-align: right;\">\n",
       "      <th></th>\n",
       "      <th>P_2</th>\n",
       "      <th>D_39</th>\n",
       "      <th>B_1</th>\n",
       "      <th>B_2</th>\n",
       "      <th>R_1</th>\n",
       "      <th>D_41</th>\n",
       "      <th>B_3</th>\n",
       "      <th>D_44</th>\n",
       "      <th>B_4</th>\n",
       "      <th>D_45</th>\n",
       "      <th>...</th>\n",
       "      <th>D_64_3</th>\n",
       "      <th>D_66_-1</th>\n",
       "      <th>D_66_1</th>\n",
       "      <th>D_68_-1</th>\n",
       "      <th>D_68_1</th>\n",
       "      <th>D_68_2</th>\n",
       "      <th>D_68_3</th>\n",
       "      <th>D_68_4</th>\n",
       "      <th>D_68_5</th>\n",
       "      <th>D_68_6</th>\n",
       "    </tr>\n",
       "    <tr>\n",
       "      <th>customer_ID</th>\n",
       "      <th></th>\n",
       "      <th></th>\n",
       "      <th></th>\n",
       "      <th></th>\n",
       "      <th></th>\n",
       "      <th></th>\n",
       "      <th></th>\n",
       "      <th></th>\n",
       "      <th></th>\n",
       "      <th></th>\n",
       "      <th></th>\n",
       "      <th></th>\n",
       "      <th></th>\n",
       "      <th></th>\n",
       "      <th></th>\n",
       "      <th></th>\n",
       "      <th></th>\n",
       "      <th></th>\n",
       "      <th></th>\n",
       "      <th></th>\n",
       "      <th></th>\n",
       "    </tr>\n",
       "  </thead>\n",
       "  <tbody>\n",
       "    <tr>\n",
       "      <th>0000099d6bd597052cdcda90ffabf56573fe9d7c79be5fbac11a8ed792feb62a</th>\n",
       "      <td>0.934745</td>\n",
       "      <td>0</td>\n",
       "      <td>0.009382</td>\n",
       "      <td>1.007647</td>\n",
       "      <td>0.006104</td>\n",
       "      <td>0.0</td>\n",
       "      <td>0.007174</td>\n",
       "      <td>0</td>\n",
       "      <td>5</td>\n",
       "      <td>0.740102</td>\n",
       "      <td>...</td>\n",
       "      <td>0</td>\n",
       "      <td>1</td>\n",
       "      <td>0</td>\n",
       "      <td>0</td>\n",
       "      <td>0</td>\n",
       "      <td>0</td>\n",
       "      <td>0</td>\n",
       "      <td>0</td>\n",
       "      <td>0</td>\n",
       "      <td>1</td>\n",
       "    </tr>\n",
       "    <tr>\n",
       "      <th>00000fd6641609c6ece5454664794f0340ad84dddce9a267a310b5ae68e9d8e5</th>\n",
       "      <td>0.880519</td>\n",
       "      <td>6</td>\n",
       "      <td>0.034684</td>\n",
       "      <td>1.004028</td>\n",
       "      <td>0.006911</td>\n",
       "      <td>0.0</td>\n",
       "      <td>0.005068</td>\n",
       "      <td>0</td>\n",
       "      <td>1</td>\n",
       "      <td>0.266275</td>\n",
       "      <td>...</td>\n",
       "      <td>0</td>\n",
       "      <td>1</td>\n",
       "      <td>0</td>\n",
       "      <td>0</td>\n",
       "      <td>0</td>\n",
       "      <td>0</td>\n",
       "      <td>0</td>\n",
       "      <td>0</td>\n",
       "      <td>0</td>\n",
       "      <td>1</td>\n",
       "    </tr>\n",
       "    <tr>\n",
       "      <th>00001b22f846c82c51f6e3958ccd81970162bae8b007e80662ef27519fcc18c1</th>\n",
       "      <td>0.880875</td>\n",
       "      <td>0</td>\n",
       "      <td>0.004284</td>\n",
       "      <td>0.812649</td>\n",
       "      <td>0.006450</td>\n",
       "      <td>0.0</td>\n",
       "      <td>0.007196</td>\n",
       "      <td>0</td>\n",
       "      <td>2</td>\n",
       "      <td>0.251598</td>\n",
       "      <td>...</td>\n",
       "      <td>0</td>\n",
       "      <td>1</td>\n",
       "      <td>0</td>\n",
       "      <td>0</td>\n",
       "      <td>0</td>\n",
       "      <td>0</td>\n",
       "      <td>0</td>\n",
       "      <td>0</td>\n",
       "      <td>0</td>\n",
       "      <td>1</td>\n",
       "    </tr>\n",
       "    <tr>\n",
       "      <th>000041bdba6ecadd89a52d11886e8eaaec9325906c9723355abb5ca523658edc</th>\n",
       "      <td>0.621776</td>\n",
       "      <td>0</td>\n",
       "      <td>0.012564</td>\n",
       "      <td>1.006183</td>\n",
       "      <td>0.007829</td>\n",
       "      <td>0.0</td>\n",
       "      <td>0.009937</td>\n",
       "      <td>0</td>\n",
       "      <td>0</td>\n",
       "      <td>0.085103</td>\n",
       "      <td>...</td>\n",
       "      <td>0</td>\n",
       "      <td>1</td>\n",
       "      <td>0</td>\n",
       "      <td>0</td>\n",
       "      <td>0</td>\n",
       "      <td>0</td>\n",
       "      <td>1</td>\n",
       "      <td>0</td>\n",
       "      <td>0</td>\n",
       "      <td>0</td>\n",
       "    </tr>\n",
       "    <tr>\n",
       "      <th>00007889e4fcd2614b6cbe7f8f3d2e5c728eca32d9eb8ad51ca8b8c4a24cefed</th>\n",
       "      <td>0.871900</td>\n",
       "      <td>0</td>\n",
       "      <td>0.007679</td>\n",
       "      <td>0.815746</td>\n",
       "      <td>0.001247</td>\n",
       "      <td>0.0</td>\n",
       "      <td>0.005528</td>\n",
       "      <td>0</td>\n",
       "      <td>21</td>\n",
       "      <td>0.069952</td>\n",
       "      <td>...</td>\n",
       "      <td>0</td>\n",
       "      <td>0</td>\n",
       "      <td>1</td>\n",
       "      <td>0</td>\n",
       "      <td>0</td>\n",
       "      <td>0</td>\n",
       "      <td>0</td>\n",
       "      <td>0</td>\n",
       "      <td>0</td>\n",
       "      <td>1</td>\n",
       "    </tr>\n",
       "  </tbody>\n",
       "</table>\n",
       "<p>5 rows × 198 columns</p>\n",
       "</div>"
      ]
     },
     "execution_count": 14,
     "metadata": {},
     "output_type": "execute_result"
    }
   ],
   "execution_count": 14
  },
  {
   "metadata": {},
   "cell_type": "markdown",
   "source": [
    "# This line splits the df_hotter DataFrame and the target[\"target\"] Series into training and testing sets, with 80% of the data for training and 20% for testing, ensuring reproducibility with random_state=31.\n",
    "\n",
    "Usar random_state=31 garante que a divisão dos dados em conjuntos de treinamento e teste seja reprodutível. Isso significa que toda vez que você executar o código com os mesmos dados e random_state. O valor específico 31 é arbitrário e pode ser qualquer número inteiro; ele é apenas uma semente para o gerador de números aleatórios."
   ],
   "id": "5f65b25b2a061709"
  },
  {
   "metadata": {
    "ExecuteTime": {
     "end_time": "2024-06-29T01:43:20.942303Z",
     "start_time": "2024-06-29T01:43:20.746820Z"
    }
   },
   "cell_type": "code",
   "source": [
    "X_train, X_test, y_train, y_test = train_test_split(df_hotter,target[\"target\"],test_size=0.2,random_state=31)\n",
    "\n",
    "\n",
    "print(X_train.shape)\n",
    "print(y_train.shape)\n",
    "print(X_test.shape)\n",
    "print(y_test.shape)\n"
   ],
   "id": "a426c92acc9e061",
   "outputs": [
    {
     "name": "stdout",
     "output_type": "stream",
     "text": [
      "(367130, 198)\n",
      "(367130,)\n",
      "(91783, 198)\n",
      "(91783,)\n"
     ]
    }
   ],
   "execution_count": 15
  },
  {
   "metadata": {},
   "cell_type": "markdown",
   "source": [
    "# Defines many algorithms to get the best to predict the dataset\n",
    "\n",
    "## xgboost\n",
    "It uses a boosting approach where each tree is built sequentially to correct the errors of the previous predictions\n",
    "\n",
    "## decision tree\n",
    "It partitions the feature space into rectangular regions and predicts a value for each region based on data conditions\n",
    "\n",
    "## Light Gradient Boosting Machine\n",
    "Similar to XGBoost, but uses a \"leaf-wise\" tree building strategy instead of \"level-wise\", potentially leading to faster training"
   ],
   "id": "5cbb524d962ffa5"
  },
  {
   "metadata": {
    "ExecuteTime": {
     "end_time": "2024-06-29T01:43:20.946741Z",
     "start_time": "2024-06-29T01:43:20.943674Z"
    }
   },
   "cell_type": "code",
   "source": [
    "\n",
    "xgb = XGBClassifier(max_depth = 1, n_estimators = 100, learning_rate = 1, random_state = 31)\n",
    "dt = DecisionTreeClassifier(max_depth = 1, random_state = 31)\n",
    "lgbm = LGBMClassifier(force_col_wise=True, max_depth = 1, n_estimators = 100, learning_rate = 1, random_state = 31)\n",
    "vote_hard = VotingClassifier(estimators = [('xgb', xgb), ('dt', dt), ('lgbm', lgbm)], voting = 'hard')\n",
    "vote_soft = VotingClassifier(estimators = [('xgb', xgb), ('dt', dt), ('lgbm', lgbm)], voting = 'soft')\n"
   ],
   "id": "fdb2eb1d3900de12",
   "outputs": [],
   "execution_count": 16
  },
  {
   "metadata": {},
   "cell_type": "markdown",
   "source": "Measure the time required to train three different classifiers",
   "id": "5875be62e07304a5"
  },
  {
   "metadata": {
    "ExecuteTime": {
     "end_time": "2024-06-29T01:43:26.108503Z",
     "start_time": "2024-06-29T01:43:20.947522Z"
    }
   },
   "cell_type": "code",
   "source": [
    "start = time.time()\n",
    "\n",
    "xgb.fit(X_train, y_train)\n",
    "dt.fit(X_train, y_train)\n",
    "lgbm.fit(X_train, y_train)\n",
    "end = time.time()- start\n",
    "print(end)\n"
   ],
   "id": "d64210a90989f5a0",
   "outputs": [
    {
     "name": "stdout",
     "output_type": "stream",
     "text": [
      "[LightGBM] [Info] Number of positive: 95144, number of negative: 271986\n",
      "[LightGBM] [Info] Total Bins 18252\n",
      "[LightGBM] [Info] Number of data points in the train set: 367130, number of used features: 197\n",
      "[LightGBM] [Info] [binary:BoostFromScore]: pavg=0.259156 -> initscore=-1.050359\n",
      "[LightGBM] [Info] Start training from score -1.050359\n",
      "[LightGBM] [Warning] No further splits with positive gain, best gain: -inf\n",
      "[LightGBM] [Warning] No further splits with positive gain, best gain: -inf\n",
      "[LightGBM] [Warning] No further splits with positive gain, best gain: -inf\n",
      "[LightGBM] [Warning] No further splits with positive gain, best gain: -inf\n",
      "[LightGBM] [Warning] No further splits with positive gain, best gain: -inf\n",
      "[LightGBM] [Warning] No further splits with positive gain, best gain: -inf\n",
      "[LightGBM] [Warning] No further splits with positive gain, best gain: -inf\n",
      "[LightGBM] [Warning] No further splits with positive gain, best gain: -inf\n",
      "[LightGBM] [Warning] No further splits with positive gain, best gain: -inf\n",
      "[LightGBM] [Warning] No further splits with positive gain, best gain: -inf\n",
      "[LightGBM] [Warning] No further splits with positive gain, best gain: -inf\n",
      "[LightGBM] [Warning] No further splits with positive gain, best gain: -inf\n",
      "[LightGBM] [Warning] No further splits with positive gain, best gain: -inf\n",
      "[LightGBM] [Warning] No further splits with positive gain, best gain: -inf\n",
      "[LightGBM] [Warning] No further splits with positive gain, best gain: -inf\n",
      "[LightGBM] [Warning] No further splits with positive gain, best gain: -inf\n",
      "[LightGBM] [Warning] No further splits with positive gain, best gain: -inf\n",
      "[LightGBM] [Warning] No further splits with positive gain, best gain: -inf\n",
      "[LightGBM] [Warning] No further splits with positive gain, best gain: -inf\n",
      "[LightGBM] [Warning] No further splits with positive gain, best gain: -inf\n",
      "[LightGBM] [Warning] No further splits with positive gain, best gain: -inf\n",
      "[LightGBM] [Warning] No further splits with positive gain, best gain: -inf\n",
      "[LightGBM] [Warning] No further splits with positive gain, best gain: -inf\n",
      "[LightGBM] [Warning] No further splits with positive gain, best gain: -inf\n",
      "[LightGBM] [Warning] No further splits with positive gain, best gain: -inf\n",
      "[LightGBM] [Warning] No further splits with positive gain, best gain: -inf\n",
      "[LightGBM] [Warning] No further splits with positive gain, best gain: -inf\n",
      "[LightGBM] [Warning] No further splits with positive gain, best gain: -inf\n",
      "[LightGBM] [Warning] No further splits with positive gain, best gain: -inf\n",
      "[LightGBM] [Warning] No further splits with positive gain, best gain: -inf\n",
      "[LightGBM] [Warning] No further splits with positive gain, best gain: -inf\n",
      "[LightGBM] [Warning] No further splits with positive gain, best gain: -inf\n",
      "[LightGBM] [Warning] No further splits with positive gain, best gain: -inf\n",
      "[LightGBM] [Warning] No further splits with positive gain, best gain: -inf\n",
      "[LightGBM] [Warning] No further splits with positive gain, best gain: -inf\n",
      "[LightGBM] [Warning] No further splits with positive gain, best gain: -inf\n",
      "[LightGBM] [Warning] No further splits with positive gain, best gain: -inf\n",
      "[LightGBM] [Warning] No further splits with positive gain, best gain: -inf\n",
      "[LightGBM] [Warning] No further splits with positive gain, best gain: -inf\n",
      "[LightGBM] [Warning] No further splits with positive gain, best gain: -inf\n",
      "[LightGBM] [Warning] No further splits with positive gain, best gain: -inf\n",
      "[LightGBM] [Warning] No further splits with positive gain, best gain: -inf\n",
      "[LightGBM] [Warning] No further splits with positive gain, best gain: -inf\n",
      "[LightGBM] [Warning] No further splits with positive gain, best gain: -inf\n",
      "[LightGBM] [Warning] No further splits with positive gain, best gain: -inf\n",
      "[LightGBM] [Warning] No further splits with positive gain, best gain: -inf\n",
      "[LightGBM] [Warning] No further splits with positive gain, best gain: -inf\n",
      "[LightGBM] [Warning] No further splits with positive gain, best gain: -inf\n",
      "[LightGBM] [Warning] No further splits with positive gain, best gain: -inf\n",
      "[LightGBM] [Warning] No further splits with positive gain, best gain: -inf\n",
      "[LightGBM] [Warning] No further splits with positive gain, best gain: -inf\n",
      "[LightGBM] [Warning] No further splits with positive gain, best gain: -inf\n",
      "[LightGBM] [Warning] No further splits with positive gain, best gain: -inf\n",
      "[LightGBM] [Warning] No further splits with positive gain, best gain: -inf\n",
      "[LightGBM] [Warning] No further splits with positive gain, best gain: -inf\n",
      "[LightGBM] [Warning] No further splits with positive gain, best gain: -inf\n",
      "[LightGBM] [Warning] No further splits with positive gain, best gain: -inf\n",
      "[LightGBM] [Warning] No further splits with positive gain, best gain: -inf\n",
      "[LightGBM] [Warning] No further splits with positive gain, best gain: -inf\n",
      "[LightGBM] [Warning] No further splits with positive gain, best gain: -inf\n",
      "[LightGBM] [Warning] No further splits with positive gain, best gain: -inf\n",
      "[LightGBM] [Warning] No further splits with positive gain, best gain: -inf\n",
      "[LightGBM] [Warning] No further splits with positive gain, best gain: -inf\n",
      "[LightGBM] [Warning] No further splits with positive gain, best gain: -inf\n",
      "[LightGBM] [Warning] No further splits with positive gain, best gain: -inf\n",
      "[LightGBM] [Warning] No further splits with positive gain, best gain: -inf\n",
      "[LightGBM] [Warning] No further splits with positive gain, best gain: -inf\n",
      "[LightGBM] [Warning] No further splits with positive gain, best gain: -inf\n",
      "[LightGBM] [Warning] No further splits with positive gain, best gain: -inf\n",
      "[LightGBM] [Warning] No further splits with positive gain, best gain: -inf\n",
      "[LightGBM] [Warning] No further splits with positive gain, best gain: -inf\n",
      "[LightGBM] [Warning] No further splits with positive gain, best gain: -inf\n",
      "[LightGBM] [Warning] No further splits with positive gain, best gain: -inf\n",
      "[LightGBM] [Warning] No further splits with positive gain, best gain: -inf\n",
      "[LightGBM] [Warning] No further splits with positive gain, best gain: -inf\n",
      "[LightGBM] [Warning] No further splits with positive gain, best gain: -inf\n",
      "[LightGBM] [Warning] No further splits with positive gain, best gain: -inf\n",
      "[LightGBM] [Warning] No further splits with positive gain, best gain: -inf\n",
      "[LightGBM] [Warning] No further splits with positive gain, best gain: -inf\n",
      "[LightGBM] [Warning] No further splits with positive gain, best gain: -inf\n",
      "[LightGBM] [Warning] No further splits with positive gain, best gain: -inf\n",
      "[LightGBM] [Warning] No further splits with positive gain, best gain: -inf\n",
      "[LightGBM] [Warning] No further splits with positive gain, best gain: -inf\n",
      "[LightGBM] [Warning] No further splits with positive gain, best gain: -inf\n",
      "[LightGBM] [Warning] No further splits with positive gain, best gain: -inf\n",
      "[LightGBM] [Warning] No further splits with positive gain, best gain: -inf\n",
      "[LightGBM] [Warning] No further splits with positive gain, best gain: -inf\n",
      "[LightGBM] [Warning] No further splits with positive gain, best gain: -inf\n",
      "[LightGBM] [Warning] No further splits with positive gain, best gain: -inf\n",
      "[LightGBM] [Warning] No further splits with positive gain, best gain: -inf\n",
      "[LightGBM] [Warning] No further splits with positive gain, best gain: -inf\n",
      "[LightGBM] [Warning] No further splits with positive gain, best gain: -inf\n",
      "[LightGBM] [Warning] No further splits with positive gain, best gain: -inf\n",
      "[LightGBM] [Warning] No further splits with positive gain, best gain: -inf\n",
      "[LightGBM] [Warning] No further splits with positive gain, best gain: -inf\n",
      "[LightGBM] [Warning] No further splits with positive gain, best gain: -inf\n",
      "[LightGBM] [Warning] No further splits with positive gain, best gain: -inf\n",
      "[LightGBM] [Warning] No further splits with positive gain, best gain: -inf\n",
      "[LightGBM] [Warning] No further splits with positive gain, best gain: -inf\n",
      "[LightGBM] [Warning] No further splits with positive gain, best gain: -inf\n",
      "5.15871000289917\n"
     ]
    }
   ],
   "execution_count": 17
  },
  {
   "metadata": {},
   "cell_type": "markdown",
   "source": "The time to define vote_hard and vote_soft to train the dataset",
   "id": "99af42a116ecb2bf"
  },
  {
   "metadata": {
    "ExecuteTime": {
     "end_time": "2024-06-29T01:43:35.866386Z",
     "start_time": "2024-06-29T01:43:26.109462Z"
    }
   },
   "cell_type": "code",
   "source": [
    "start = time.time()\n",
    "vote_hard.fit(X_train, y_train)\n",
    "vote_soft.fit(X_train, y_train)\n",
    "\n",
    "end = time.time()- start\n",
    "print(end)\n"
   ],
   "id": "44b3f451b0075e19",
   "outputs": [
    {
     "name": "stdout",
     "output_type": "stream",
     "text": [
      "[LightGBM] [Info] Number of positive: 95144, number of negative: 271986\n",
      "[LightGBM] [Info] Total Bins 18252\n",
      "[LightGBM] [Info] Number of data points in the train set: 367130, number of used features: 197\n",
      "[LightGBM] [Info] [binary:BoostFromScore]: pavg=0.259156 -> initscore=-1.050359\n",
      "[LightGBM] [Info] Start training from score -1.050359\n",
      "[LightGBM] [Warning] No further splits with positive gain, best gain: -inf\n",
      "[LightGBM] [Warning] No further splits with positive gain, best gain: -inf\n",
      "[LightGBM] [Warning] No further splits with positive gain, best gain: -inf\n",
      "[LightGBM] [Warning] No further splits with positive gain, best gain: -inf\n",
      "[LightGBM] [Warning] No further splits with positive gain, best gain: -inf\n",
      "[LightGBM] [Warning] No further splits with positive gain, best gain: -inf\n",
      "[LightGBM] [Warning] No further splits with positive gain, best gain: -inf\n",
      "[LightGBM] [Warning] No further splits with positive gain, best gain: -inf\n",
      "[LightGBM] [Warning] No further splits with positive gain, best gain: -inf\n",
      "[LightGBM] [Warning] No further splits with positive gain, best gain: -inf\n",
      "[LightGBM] [Warning] No further splits with positive gain, best gain: -inf\n",
      "[LightGBM] [Warning] No further splits with positive gain, best gain: -inf\n",
      "[LightGBM] [Warning] No further splits with positive gain, best gain: -inf\n",
      "[LightGBM] [Warning] No further splits with positive gain, best gain: -inf\n",
      "[LightGBM] [Warning] No further splits with positive gain, best gain: -inf\n",
      "[LightGBM] [Warning] No further splits with positive gain, best gain: -inf\n",
      "[LightGBM] [Warning] No further splits with positive gain, best gain: -inf\n",
      "[LightGBM] [Warning] No further splits with positive gain, best gain: -inf\n",
      "[LightGBM] [Warning] No further splits with positive gain, best gain: -inf\n",
      "[LightGBM] [Warning] No further splits with positive gain, best gain: -inf\n",
      "[LightGBM] [Warning] No further splits with positive gain, best gain: -inf\n",
      "[LightGBM] [Warning] No further splits with positive gain, best gain: -inf\n",
      "[LightGBM] [Warning] No further splits with positive gain, best gain: -inf\n",
      "[LightGBM] [Warning] No further splits with positive gain, best gain: -inf\n",
      "[LightGBM] [Warning] No further splits with positive gain, best gain: -inf\n",
      "[LightGBM] [Warning] No further splits with positive gain, best gain: -inf\n",
      "[LightGBM] [Warning] No further splits with positive gain, best gain: -inf\n",
      "[LightGBM] [Warning] No further splits with positive gain, best gain: -inf\n",
      "[LightGBM] [Warning] No further splits with positive gain, best gain: -inf\n",
      "[LightGBM] [Warning] No further splits with positive gain, best gain: -inf\n",
      "[LightGBM] [Warning] No further splits with positive gain, best gain: -inf\n",
      "[LightGBM] [Warning] No further splits with positive gain, best gain: -inf\n",
      "[LightGBM] [Warning] No further splits with positive gain, best gain: -inf\n",
      "[LightGBM] [Warning] No further splits with positive gain, best gain: -inf\n",
      "[LightGBM] [Warning] No further splits with positive gain, best gain: -inf\n",
      "[LightGBM] [Warning] No further splits with positive gain, best gain: -inf\n",
      "[LightGBM] [Warning] No further splits with positive gain, best gain: -inf\n",
      "[LightGBM] [Warning] No further splits with positive gain, best gain: -inf\n",
      "[LightGBM] [Warning] No further splits with positive gain, best gain: -inf\n",
      "[LightGBM] [Warning] No further splits with positive gain, best gain: -inf\n",
      "[LightGBM] [Warning] No further splits with positive gain, best gain: -inf\n",
      "[LightGBM] [Warning] No further splits with positive gain, best gain: -inf\n",
      "[LightGBM] [Warning] No further splits with positive gain, best gain: -inf\n",
      "[LightGBM] [Warning] No further splits with positive gain, best gain: -inf\n",
      "[LightGBM] [Warning] No further splits with positive gain, best gain: -inf\n",
      "[LightGBM] [Warning] No further splits with positive gain, best gain: -inf\n",
      "[LightGBM] [Warning] No further splits with positive gain, best gain: -inf\n",
      "[LightGBM] [Warning] No further splits with positive gain, best gain: -inf\n",
      "[LightGBM] [Warning] No further splits with positive gain, best gain: -inf\n",
      "[LightGBM] [Warning] No further splits with positive gain, best gain: -inf\n",
      "[LightGBM] [Warning] No further splits with positive gain, best gain: -inf\n",
      "[LightGBM] [Warning] No further splits with positive gain, best gain: -inf\n",
      "[LightGBM] [Warning] No further splits with positive gain, best gain: -inf\n",
      "[LightGBM] [Warning] No further splits with positive gain, best gain: -inf\n",
      "[LightGBM] [Warning] No further splits with positive gain, best gain: -inf\n",
      "[LightGBM] [Warning] No further splits with positive gain, best gain: -inf\n",
      "[LightGBM] [Warning] No further splits with positive gain, best gain: -inf\n",
      "[LightGBM] [Warning] No further splits with positive gain, best gain: -inf\n",
      "[LightGBM] [Warning] No further splits with positive gain, best gain: -inf\n",
      "[LightGBM] [Warning] No further splits with positive gain, best gain: -inf\n",
      "[LightGBM] [Warning] No further splits with positive gain, best gain: -inf\n",
      "[LightGBM] [Warning] No further splits with positive gain, best gain: -inf\n",
      "[LightGBM] [Warning] No further splits with positive gain, best gain: -inf\n",
      "[LightGBM] [Warning] No further splits with positive gain, best gain: -inf\n",
      "[LightGBM] [Warning] No further splits with positive gain, best gain: -inf\n",
      "[LightGBM] [Warning] No further splits with positive gain, best gain: -inf\n",
      "[LightGBM] [Warning] No further splits with positive gain, best gain: -inf\n",
      "[LightGBM] [Warning] No further splits with positive gain, best gain: -inf\n",
      "[LightGBM] [Warning] No further splits with positive gain, best gain: -inf\n",
      "[LightGBM] [Warning] No further splits with positive gain, best gain: -inf\n",
      "[LightGBM] [Warning] No further splits with positive gain, best gain: -inf\n",
      "[LightGBM] [Warning] No further splits with positive gain, best gain: -inf\n",
      "[LightGBM] [Warning] No further splits with positive gain, best gain: -inf\n",
      "[LightGBM] [Warning] No further splits with positive gain, best gain: -inf\n",
      "[LightGBM] [Warning] No further splits with positive gain, best gain: -inf\n",
      "[LightGBM] [Warning] No further splits with positive gain, best gain: -inf\n",
      "[LightGBM] [Warning] No further splits with positive gain, best gain: -inf\n",
      "[LightGBM] [Warning] No further splits with positive gain, best gain: -inf\n",
      "[LightGBM] [Warning] No further splits with positive gain, best gain: -inf\n",
      "[LightGBM] [Warning] No further splits with positive gain, best gain: -inf\n",
      "[LightGBM] [Warning] No further splits with positive gain, best gain: -inf\n",
      "[LightGBM] [Warning] No further splits with positive gain, best gain: -inf\n",
      "[LightGBM] [Warning] No further splits with positive gain, best gain: -inf\n",
      "[LightGBM] [Warning] No further splits with positive gain, best gain: -inf\n",
      "[LightGBM] [Warning] No further splits with positive gain, best gain: -inf\n",
      "[LightGBM] [Warning] No further splits with positive gain, best gain: -inf\n",
      "[LightGBM] [Warning] No further splits with positive gain, best gain: -inf\n",
      "[LightGBM] [Warning] No further splits with positive gain, best gain: -inf\n",
      "[LightGBM] [Warning] No further splits with positive gain, best gain: -inf\n",
      "[LightGBM] [Warning] No further splits with positive gain, best gain: -inf\n",
      "[LightGBM] [Warning] No further splits with positive gain, best gain: -inf\n",
      "[LightGBM] [Warning] No further splits with positive gain, best gain: -inf\n",
      "[LightGBM] [Warning] No further splits with positive gain, best gain: -inf\n",
      "[LightGBM] [Warning] No further splits with positive gain, best gain: -inf\n",
      "[LightGBM] [Warning] No further splits with positive gain, best gain: -inf\n",
      "[LightGBM] [Warning] No further splits with positive gain, best gain: -inf\n",
      "[LightGBM] [Warning] No further splits with positive gain, best gain: -inf\n",
      "[LightGBM] [Warning] No further splits with positive gain, best gain: -inf\n",
      "[LightGBM] [Warning] No further splits with positive gain, best gain: -inf\n",
      "[LightGBM] [Warning] No further splits with positive gain, best gain: -inf\n",
      "[LightGBM] [Info] Number of positive: 95144, number of negative: 271986\n",
      "[LightGBM] [Info] Total Bins 18252\n",
      "[LightGBM] [Info] Number of data points in the train set: 367130, number of used features: 197\n",
      "[LightGBM] [Info] [binary:BoostFromScore]: pavg=0.259156 -> initscore=-1.050359\n",
      "[LightGBM] [Info] Start training from score -1.050359\n",
      "[LightGBM] [Warning] No further splits with positive gain, best gain: -inf\n",
      "[LightGBM] [Warning] No further splits with positive gain, best gain: -inf\n",
      "[LightGBM] [Warning] No further splits with positive gain, best gain: -inf\n",
      "[LightGBM] [Warning] No further splits with positive gain, best gain: -inf\n",
      "[LightGBM] [Warning] No further splits with positive gain, best gain: -inf\n",
      "[LightGBM] [Warning] No further splits with positive gain, best gain: -inf\n",
      "[LightGBM] [Warning] No further splits with positive gain, best gain: -inf\n",
      "[LightGBM] [Warning] No further splits with positive gain, best gain: -inf\n",
      "[LightGBM] [Warning] No further splits with positive gain, best gain: -inf\n",
      "[LightGBM] [Warning] No further splits with positive gain, best gain: -inf\n",
      "[LightGBM] [Warning] No further splits with positive gain, best gain: -inf\n",
      "[LightGBM] [Warning] No further splits with positive gain, best gain: -inf\n",
      "[LightGBM] [Warning] No further splits with positive gain, best gain: -inf\n",
      "[LightGBM] [Warning] No further splits with positive gain, best gain: -inf\n",
      "[LightGBM] [Warning] No further splits with positive gain, best gain: -inf\n",
      "[LightGBM] [Warning] No further splits with positive gain, best gain: -inf\n",
      "[LightGBM] [Warning] No further splits with positive gain, best gain: -inf\n",
      "[LightGBM] [Warning] No further splits with positive gain, best gain: -inf\n",
      "[LightGBM] [Warning] No further splits with positive gain, best gain: -inf\n",
      "[LightGBM] [Warning] No further splits with positive gain, best gain: -inf\n",
      "[LightGBM] [Warning] No further splits with positive gain, best gain: -inf\n",
      "[LightGBM] [Warning] No further splits with positive gain, best gain: -inf\n",
      "[LightGBM] [Warning] No further splits with positive gain, best gain: -inf\n",
      "[LightGBM] [Warning] No further splits with positive gain, best gain: -inf\n",
      "[LightGBM] [Warning] No further splits with positive gain, best gain: -inf\n",
      "[LightGBM] [Warning] No further splits with positive gain, best gain: -inf\n",
      "[LightGBM] [Warning] No further splits with positive gain, best gain: -inf\n",
      "[LightGBM] [Warning] No further splits with positive gain, best gain: -inf\n",
      "[LightGBM] [Warning] No further splits with positive gain, best gain: -inf\n",
      "[LightGBM] [Warning] No further splits with positive gain, best gain: -inf\n",
      "[LightGBM] [Warning] No further splits with positive gain, best gain: -inf\n",
      "[LightGBM] [Warning] No further splits with positive gain, best gain: -inf\n",
      "[LightGBM] [Warning] No further splits with positive gain, best gain: -inf\n",
      "[LightGBM] [Warning] No further splits with positive gain, best gain: -inf\n",
      "[LightGBM] [Warning] No further splits with positive gain, best gain: -inf\n",
      "[LightGBM] [Warning] No further splits with positive gain, best gain: -inf\n",
      "[LightGBM] [Warning] No further splits with positive gain, best gain: -inf\n",
      "[LightGBM] [Warning] No further splits with positive gain, best gain: -inf\n",
      "[LightGBM] [Warning] No further splits with positive gain, best gain: -inf\n",
      "[LightGBM] [Warning] No further splits with positive gain, best gain: -inf\n",
      "[LightGBM] [Warning] No further splits with positive gain, best gain: -inf\n",
      "[LightGBM] [Warning] No further splits with positive gain, best gain: -inf\n",
      "[LightGBM] [Warning] No further splits with positive gain, best gain: -inf\n",
      "[LightGBM] [Warning] No further splits with positive gain, best gain: -inf\n",
      "[LightGBM] [Warning] No further splits with positive gain, best gain: -inf\n",
      "[LightGBM] [Warning] No further splits with positive gain, best gain: -inf\n",
      "[LightGBM] [Warning] No further splits with positive gain, best gain: -inf\n",
      "[LightGBM] [Warning] No further splits with positive gain, best gain: -inf\n",
      "[LightGBM] [Warning] No further splits with positive gain, best gain: -inf\n",
      "[LightGBM] [Warning] No further splits with positive gain, best gain: -inf\n",
      "[LightGBM] [Warning] No further splits with positive gain, best gain: -inf\n",
      "[LightGBM] [Warning] No further splits with positive gain, best gain: -inf\n",
      "[LightGBM] [Warning] No further splits with positive gain, best gain: -inf\n",
      "[LightGBM] [Warning] No further splits with positive gain, best gain: -inf\n",
      "[LightGBM] [Warning] No further splits with positive gain, best gain: -inf\n",
      "[LightGBM] [Warning] No further splits with positive gain, best gain: -inf\n",
      "[LightGBM] [Warning] No further splits with positive gain, best gain: -inf\n",
      "[LightGBM] [Warning] No further splits with positive gain, best gain: -inf\n",
      "[LightGBM] [Warning] No further splits with positive gain, best gain: -inf\n",
      "[LightGBM] [Warning] No further splits with positive gain, best gain: -inf\n",
      "[LightGBM] [Warning] No further splits with positive gain, best gain: -inf\n",
      "[LightGBM] [Warning] No further splits with positive gain, best gain: -inf\n",
      "[LightGBM] [Warning] No further splits with positive gain, best gain: -inf\n",
      "[LightGBM] [Warning] No further splits with positive gain, best gain: -inf\n",
      "[LightGBM] [Warning] No further splits with positive gain, best gain: -inf\n",
      "[LightGBM] [Warning] No further splits with positive gain, best gain: -inf\n",
      "[LightGBM] [Warning] No further splits with positive gain, best gain: -inf\n",
      "[LightGBM] [Warning] No further splits with positive gain, best gain: -inf\n",
      "[LightGBM] [Warning] No further splits with positive gain, best gain: -inf\n",
      "[LightGBM] [Warning] No further splits with positive gain, best gain: -inf\n",
      "[LightGBM] [Warning] No further splits with positive gain, best gain: -inf\n",
      "[LightGBM] [Warning] No further splits with positive gain, best gain: -inf\n",
      "[LightGBM] [Warning] No further splits with positive gain, best gain: -inf\n",
      "[LightGBM] [Warning] No further splits with positive gain, best gain: -inf\n",
      "[LightGBM] [Warning] No further splits with positive gain, best gain: -inf\n",
      "[LightGBM] [Warning] No further splits with positive gain, best gain: -inf\n",
      "[LightGBM] [Warning] No further splits with positive gain, best gain: -inf\n",
      "[LightGBM] [Warning] No further splits with positive gain, best gain: -inf\n",
      "[LightGBM] [Warning] No further splits with positive gain, best gain: -inf\n",
      "[LightGBM] [Warning] No further splits with positive gain, best gain: -inf\n",
      "[LightGBM] [Warning] No further splits with positive gain, best gain: -inf\n",
      "[LightGBM] [Warning] No further splits with positive gain, best gain: -inf\n",
      "[LightGBM] [Warning] No further splits with positive gain, best gain: -inf\n",
      "[LightGBM] [Warning] No further splits with positive gain, best gain: -inf\n",
      "[LightGBM] [Warning] No further splits with positive gain, best gain: -inf\n",
      "[LightGBM] [Warning] No further splits with positive gain, best gain: -inf\n",
      "[LightGBM] [Warning] No further splits with positive gain, best gain: -inf\n",
      "[LightGBM] [Warning] No further splits with positive gain, best gain: -inf\n",
      "[LightGBM] [Warning] No further splits with positive gain, best gain: -inf\n",
      "[LightGBM] [Warning] No further splits with positive gain, best gain: -inf\n",
      "[LightGBM] [Warning] No further splits with positive gain, best gain: -inf\n",
      "[LightGBM] [Warning] No further splits with positive gain, best gain: -inf\n",
      "[LightGBM] [Warning] No further splits with positive gain, best gain: -inf\n",
      "[LightGBM] [Warning] No further splits with positive gain, best gain: -inf\n",
      "[LightGBM] [Warning] No further splits with positive gain, best gain: -inf\n",
      "[LightGBM] [Warning] No further splits with positive gain, best gain: -inf\n",
      "[LightGBM] [Warning] No further splits with positive gain, best gain: -inf\n",
      "[LightGBM] [Warning] No further splits with positive gain, best gain: -inf\n",
      "[LightGBM] [Warning] No further splits with positive gain, best gain: -inf\n",
      "[LightGBM] [Warning] No further splits with positive gain, best gain: -inf\n",
      "9.754727840423584\n"
     ]
    }
   ],
   "execution_count": 18
  },
  {
   "metadata": {},
   "cell_type": "markdown",
   "source": [
    "Assigns the predictions made by different classifiers (XGBoost, Decision Tree, LightGBM, and two voting classifiers) to separate variables and then stores them in a list for further analysis or comparison:\n",
    "\n"
   ],
   "id": "7c7f92b4b8d1de2d"
  },
  {
   "metadata": {
    "ExecuteTime": {
     "end_time": "2024-06-29T01:43:36.341213Z",
     "start_time": "2024-06-29T01:43:35.867158Z"
    }
   },
   "cell_type": "code",
   "source": [
    "y_pred_xgb = xgb.predict(X_test)\n",
    "y_pred_dt = dt.predict(X_test)\n",
    "y_pred_lgbm = lgbm.predict(X_test)\n",
    "y_pred_vote_hard = vote_hard.predict(X_test)\n",
    "y_pred_vote_soft = vote_soft.predict(X_test)\n",
    "\n",
    "y_preds = [y_pred_xgb,\n",
    "           y_pred_dt,\n",
    "           y_pred_lgbm,\n",
    "           y_pred_vote_hard,\n",
    "           y_pred_vote_soft]\n",
    "\n",
    "print(y_preds)\n"
   ],
   "id": "de376eccda5a81d9",
   "outputs": [
    {
     "name": "stdout",
     "output_type": "stream",
     "text": [
      "[array([0, 0, 0, ..., 0, 0, 0]), array([0, 0, 0, ..., 0, 0, 0]), array([0, 0, 0, ..., 0, 0, 0]), array([0, 0, 0, ..., 0, 0, 0]), array([0, 0, 0, ..., 0, 0, 0])]\n"
     ]
    }
   ],
   "execution_count": 19
  },
  {
   "metadata": {},
   "cell_type": "markdown",
   "source": "Print the accuracy score for each model's predictions stored in y_preds relative to the true labels y_test. Adjust y_test and y_preds according to your actual data and predictions for accurate evaluation.",
   "id": "e2297d4d3a2104ba"
  },
  {
   "metadata": {
    "ExecuteTime": {
     "end_time": "2024-06-29T01:43:36.364680Z",
     "start_time": "2024-06-29T01:43:36.342168Z"
    }
   },
   "cell_type": "code",
   "source": [
    "models = [\"XGB\", \"DT\", \"LGBM\", \"VOTE HARD\", \"VOTE SOFT\"]\n",
    "accuracies = []\n",
    "\n",
    "for i, pred in enumerate(y_preds):\n",
    "    accuracy = accuracy_score(y_test, pred)\n",
    "    accuracy = accuracy * 100\n",
    "    accuracies.append((models[i], accuracy))\n",
    "\n",
    "accuracies_sorted = sorted(accuracies, key=lambda x: x[1], reverse=True)\n",
    "\n",
    "for model, acc in accuracies_sorted:\n",
    "    print(f\"{model}: {acc:.2f}%\")\n"
   ],
   "id": "23968ee0f7548449",
   "outputs": [
    {
     "name": "stdout",
     "output_type": "stream",
     "text": [
      "VOTE HARD: 89.59%\n",
      "LGBM: 89.55%\n",
      "XGB: 89.51%\n",
      "VOTE SOFT: 89.22%\n",
      "DT: 84.29%\n"
     ]
    }
   ],
   "execution_count": 20
  },
  {
   "metadata": {},
   "cell_type": "markdown",
   "source": "Predict with all models to analyze",
   "id": "eb32fe411a68cbc2"
  },
  {
   "metadata": {
    "ExecuteTime": {
     "end_time": "2024-06-29T01:43:40.552639Z",
     "start_time": "2024-06-29T01:43:36.365492Z"
    }
   },
   "cell_type": "code",
   "source": [
    "y_pred_goal_vote_hard = vote_hard.predict(test_hotter)\n",
    "y_pred_goal_lgbm = lgbm.predict(test_hotter)\n",
    "y_pred_goal_xgb = xgb.predict(test_hotter)\n",
    "y_pred_goal_vote_soft = vote_soft.predict(test_hotter)\n",
    "y_pred_goal_dt = dt.predict(test_hotter)"
   ],
   "id": "c1d0d719727c512b",
   "outputs": [],
   "execution_count": 21
  },
  {
   "metadata": {},
   "cell_type": "markdown",
   "source": "",
   "id": "48a5443d33d50af7"
  },
  {
   "metadata": {},
   "cell_type": "markdown",
   "source": "Inserts the results of the file prediction into the \"submission + model.csv\" file",
   "id": "fc1a53e2b2f4759e"
  },
  {
   "metadata": {
    "ExecuteTime": {
     "end_time": "2024-06-29T01:43:44.887881Z",
     "start_time": "2024-06-29T01:43:40.553742Z"
    }
   },
   "cell_type": "code",
   "source": [
    "sample[\"prediction_hard\"] = y_pred_goal_vote_hard\n",
    "sub_df_hard = sample[['customer_ID', 'prediction_hard']].copy()\n",
    "sub_df_hard.to_csv('submission-vote-hard.csv', index=False)\n",
    "\n",
    "sample[\"prediction_lgbm\"] = y_pred_goal_lgbm\n",
    "sub_df_lgbm = sample[['customer_ID', 'prediction_lgbm']].copy()\n",
    "sub_df_lgbm.to_csv('submission-vote-lgbm.csv', index=False)\n",
    "\n",
    "sample[\"prediction_dt\"] = y_pred_goal_dt\n",
    "sub_df_dt = sample[['customer_ID', 'prediction_dt']].copy()\n",
    "sub_df_dt.to_csv('submission-vote-dt.csv', index=False)\n",
    "\n",
    "sample[\"prediction_vote_xgb\"] = y_pred_goal_xgb\n",
    "sub_df_xgb = sample[['customer_ID', 'prediction_vote_xgb']].copy()\n",
    "sub_df_xgb.to_csv('submission-vote-xgb.csv', index=False)\n",
    "\n",
    "sample[\"prediction_soft\"] = y_pred_goal_vote_soft\n",
    "sub_df_soft = sample[['customer_ID', 'prediction_soft']].copy()\n",
    "sub_df_soft.to_csv('submission-vote-soft.csv', index=False)"
   ],
   "id": "875bbf77e54725ff",
   "outputs": [],
   "execution_count": 22
  },
  {
   "metadata": {},
   "cell_type": "markdown",
   "source": "Now, let's analyze the result",
   "id": "51a39b7bc615854e"
  },
  {
   "metadata": {
    "ExecuteTime": {
     "end_time": "2024-06-29T01:43:49.975646Z",
     "start_time": "2024-06-29T01:43:44.888873Z"
    }
   },
   "cell_type": "code",
   "source": [
    "submission_hard = \"./submission-vote-hard.csv\"\n",
    "submission_dt = \"./submission-vote-dt.csv\"\n",
    "submission_lgbm = \"./submission-vote-lgbm.csv\"\n",
    "submission_soft = \"./submission-vote-soft.csv\"\n",
    "submission_xgb = \"./submission-vote-xgb.csv\"\n",
    "\n",
    "dt_submission_hard = pd.read_csv(submission_hard)\n",
    "dt_submission_dt = pd.read_csv(submission_dt)\n",
    "dt_submission_lgbm = pd.read_csv(submission_lgbm)\n",
    "dt_submission_soft = pd.read_csv(submission_soft)\n",
    "dt_submission_xgb = pd.read_csv(submission_xgb)\n",
    "\n",
    "df_submission_hard_grouped = dt_submission_hard.groupby(\"customer_ID\").tail(1)\n",
    "df_submission_dt_grouped = dt_submission_dt.groupby(\"customer_ID\").tail(1)\n",
    "df_submission_lgbm_grouped = dt_submission_lgbm.groupby(\"customer_ID\").tail(1)\n",
    "df_submission_soft_grouped = dt_submission_soft.groupby(\"customer_ID\").tail(1)\n",
    "df_submission_xgb_grouped = dt_submission_xgb.groupby(\"customer_ID\").tail(1)"
   ],
   "id": "16a81c2fc07a6e00",
   "outputs": [],
   "execution_count": 23
  },
  {
   "metadata": {},
   "cell_type": "markdown",
   "source": "Graphs and counts of prediction",
   "id": "ad609b219f35acc9"
  },
  {
   "metadata": {
    "ExecuteTime": {
     "end_time": "2024-06-29T01:43:49.980773Z",
     "start_time": "2024-06-29T01:43:49.976558Z"
    }
   },
   "cell_type": "code",
   "source": [
    "import matplotlib.ticker as ticker\n",
    "count_hard_1 = df_submission_hard_grouped['prediction_hard'].sum()\n",
    "count_hard_0 = len(df_submission_hard_grouped) - count_hard_1\n",
    "\n",
    "count_dt_1 = df_submission_dt_grouped['prediction_dt'].sum()\n",
    "count_dt_0 = len(df_submission_dt_grouped) - count_dt_1\n",
    "\n",
    "count_lgbm_1 = df_submission_lgbm_grouped['prediction_lgbm'].sum()\n",
    "count_lgbm_0 = len(df_submission_lgbm_grouped) - count_lgbm_1\n",
    "\n",
    "count_soft_1 = df_submission_soft_grouped['prediction_soft'].sum()\n",
    "count_soft_0 = len(df_submission_soft_grouped) - count_soft_1\n",
    "\n",
    "count_xgb_1 = df_submission_xgb_grouped['prediction_vote_xgb'].sum()\n",
    "count_xgb_0 = len(df_submission_xgb_grouped) - count_xgb_1\n",
    "\n",
    "models = ['VOTE HARD', 'DT', 'LGBM', 'VOTE SOFT', 'XGB']\n",
    "counts_1 = [count_hard_1, count_dt_1, count_lgbm_1, count_soft_1, count_xgb_1]\n",
    "counts_0 = [count_hard_0, count_dt_0, count_lgbm_0, count_soft_0, count_xgb_0]\n"
   ],
   "id": "db63e06aeefdeb6d",
   "outputs": [],
   "execution_count": 24
  },
  {
   "metadata": {
    "ExecuteTime": {
     "end_time": "2024-06-29T01:43:50.101596Z",
     "start_time": "2024-06-29T01:43:49.981747Z"
    }
   },
   "cell_type": "code",
   "source": [
    "plt.figure(figsize=(10, 6))\n",
    "\n",
    "plt.plot(models, counts_1, marker='o', linestyle='-.', color='skyblue', label='Value 1')\n",
    "plt.plot(models, counts_0, marker='o', linestyle='-.', color='red', label='Value 0')\n",
    "\n",
    "for model, count1, count0 in zip(models, counts_1, counts_0):\n",
    "    plt.text(model, count1, f'{count0:,.0f}', ha='center', va='bottom', fontsize=12)\n",
    "    plt.text(model, count0, f'{count0:,.0f}', ha='center', va='bottom', fontsize=12)\n",
    "\n",
    "plt.xlabel('Models')\n",
    "plt.ylabel('Quantity of value')\n",
    "plt.title('Count of value 0 e 1 by model')\n",
    "plt.grid(axis='y', linestyle='-', alpha=0.7)\n",
    "plt.legend()\n",
    "plt.tight_layout()\n",
    "\n",
    "plt.gca().yaxis.set_major_formatter(ticker.StrMethodFormatter('{x:,.0f}'))\n",
    "\n",
    "\n",
    "plt.show()\n"
   ],
   "id": "a3350d2e6c256614",
   "outputs": [
    {
     "data": {
      "text/plain": [
       "<Figure size 1000x600 with 1 Axes>"
      ],
      "image/png": "[encoded data removed]"
     },
     "metadata": {},
     "output_type": "display_data"
    }
   ],
   "execution_count": 25
  },
  {
   "metadata": {
    "ExecuteTime": {
     "end_time": "2024-06-29T01:43:50.251021Z",
     "start_time": "2024-06-29T01:43:50.102446Z"
    }
   },
   "cell_type": "code",
   "source": [
    "import numpy as np\n",
    "diff_0 = []\n",
    "diff_1 = []\n",
    "labels = []\n",
    "\n",
    "for i in range(len(models)):\n",
    "    for j in range(i + 1, len(models)):\n",
    "        diff_percent_0 = ((counts_0[i] - counts_0[j]) / counts_0[j]) * 100\n",
    "        diff_percent_1 = ((counts_1[i] - counts_1[j]) / counts_1[j]) * 100\n",
    "        diff_0.append(diff_percent_0)\n",
    "        diff_1.append(diff_percent_1)\n",
    "        labels.append(f\"{models[i]} vs {models[j]}\")\n",
    "\n",
    "fig, ax = plt.subplots(figsize=(10, 6))\n",
    "\n",
    "line0, = ax.plot(labels, diff_0, marker='o', color='blue', label='Values 0')\n",
    "\n",
    "line1, = ax.plot(labels, diff_1, marker='s', color='red', label='Values 1')\n",
    "\n",
    "for i, (x, y) in enumerate(zip(labels, diff_0)):\n",
    "    ax.annotate(f'{y:.2f}%', (x, y), textcoords=\"offset points\", xytext=(0,12), ha='center')\n",
    "\n",
    "for i, (x, y) in enumerate(zip(labels, diff_1)):\n",
    "    ax.annotate(f'{y:.2f}%', (x, y), textcoords=\"offset points\", xytext=(0,12), ha='center')\n",
    "\n",
    "ax.set_title('Percentage Differences Between Model Pairs')\n",
    "ax.set_xlabel('Model Pairs')\n",
    "ax.set_ylabel('Percentage Difference (%)')\n",
    "\n",
    "plt.xticks(rotation=45, ha='right')\n",
    "\n",
    "# Adicionando legenda\n",
    "ax.legend()\n",
    "\n",
    "plt.tight_layout()\n",
    "plt.grid(True)\n",
    "plt.show()\n"
   ],
   "id": "6a70e5e0ce7d0ccd",
   "outputs": [
    {
     "data": {
      "text/plain": [
       "<Figure size 1000x600 with 1 Axes>"
      ],
      "image/png": "[encoded data removed]"
     },
     "metadata": {},
     "output_type": "display_data"
    }
   ],
   "execution_count": 26
  },
  {
   "metadata": {
    "ExecuteTime": {
     "end_time": "2024-06-29T01:43:50.253333Z",
     "start_time": "2024-06-29T01:43:50.251968Z"
    }
   },
   "cell_type": "code",
   "source": "",
   "id": "664912bc2da44eff",
   "outputs": [],
   "execution_count": 26
  }
 ],
 "metadata": {
  "kernelspec": {
   "display_name": "Python 3",
   "language": "python",
   "name": "python3"
  },
  "language_info": {
   "codemirror_mode": {
    "name": "ipython",
    "version": 2
   },
   "file_extension": ".py",
   "mimetype": "text/x-python",
   "name": "python",
   "nbconvert_exporter": "python",
   "pygments_lexer": "ipython2",
   "version": "2.7.6"
  }
 },
 "nbformat": 4,
 "nbformat_minor": 5
}
